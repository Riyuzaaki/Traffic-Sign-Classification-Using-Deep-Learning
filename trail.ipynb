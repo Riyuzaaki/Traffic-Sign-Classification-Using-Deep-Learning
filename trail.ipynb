{
 "cells": [
  {
   "cell_type": "code",
   "execution_count": 1,
   "metadata": {},
   "outputs": [],
   "source": [
    "import numpy as np\n",
    "import pandas as pd\n",
    "import matplotlib.pyplot as plt\n",
    "import tensorflow as tf\n",
    "from PIL import Image\n",
    "import os\n",
    "from sklearn.model_selection import train_test_split\n",
    "from keras.utils import to_categorical\n",
    "from keras.models import Sequential\n",
    "from keras.layers import Conv2D,MaxPool2D,Dense,Flatten,Dropout"
   ]
  },
  {
   "cell_type": "code",
   "execution_count": 18,
   "metadata": {},
   "outputs": [
    {
     "data": {
      "text/plain": [
       "'C:\\\\Users\\\\LENOVO\\\\Desktop\\\\Deep Learning\\\\Traffic Sign Classification Using Deep Learning'"
      ]
     },
     "execution_count": 18,
     "metadata": {},
     "output_type": "execute_result"
    }
   ],
   "source": [
    "data=[]\n",
    "labels=[]\n",
    "classes=43\n",
    "cur_path=os.getcwd()\n",
    "cur_path"
   ]
  },
  {
   "cell_type": "code",
   "execution_count": 19,
   "metadata": {},
   "outputs": [],
   "source": [
    "for i in range(classes):\n",
    "    path='C:\\\\Users\\\\LENOVO\\\\Desktop\\\\Deep Learning\\\\Traffic Sign Classification Using Deep Learning\\\\Train\\\\'+str(i)\n",
    "    images=os.listdir(path)\n",
    "    for a in images:\n",
    "        try:\n",
    "            image=Image.open(path+'\\\\'+a)\n",
    "            image.resize((30,30))\n",
    "            image=np.array(image)\n",
    "            data.append(image)\n",
    "            labels.append(i)\n",
    "        except:\n",
    "            print(\"Error loading image\")\n",
    "#data=np.array(data)\n",
    "labels=np.array(labels)"
   ]
  },
  {
   "cell_type": "code",
   "execution_count": 61,
   "metadata": {},
   "outputs": [
    {
     "name": "stderr",
     "output_type": "stream",
     "text": [
      "c:\\users\\lenovo\\anaconda3\\envs\\riyuzaki\\lib\\site-packages\\ipykernel_launcher.py:1: VisibleDeprecationWarning: Creating an ndarray from ragged nested sequences (which is a list-or-tuple of lists-or-tuples-or ndarrays with different lengths or shapes) is deprecated. If you meant to do this, you must specify 'dtype=object' when creating the ndarray\n",
      "  \"\"\"Entry point for launching an IPython kernel.\n"
     ]
    },
    {
     "data": {
      "text/plain": [
       "(39209,)"
      ]
     },
     "execution_count": 61,
     "metadata": {},
     "output_type": "execute_result"
    }
   ],
   "source": [
    "data1 = np.array(data)\n",
    "data1.shape"
   ]
  },
  {
   "cell_type": "code",
   "execution_count": 62,
   "metadata": {},
   "outputs": [
    {
     "data": {
      "text/plain": [
       "(30, 29, 3)"
      ]
     },
     "execution_count": 62,
     "metadata": {},
     "output_type": "execute_result"
    }
   ],
   "source": [
    "data1[0].shape"
   ]
  },
  {
   "cell_type": "code",
   "execution_count": null,
   "metadata": {},
   "outputs": [],
   "source": []
  },
  {
   "cell_type": "code",
   "execution_count": null,
   "metadata": {},
   "outputs": [],
   "source": []
  },
  {
   "cell_type": "code",
   "execution_count": 5,
   "metadata": {},
   "outputs": [
    {
     "data": {
      "text/plain": [
       "(39209,)"
      ]
     },
     "execution_count": 5,
     "metadata": {},
     "output_type": "execute_result"
    }
   ],
   "source": [
    "labels.shape"
   ]
  },
  {
   "cell_type": "code",
   "execution_count": 6,
   "metadata": {},
   "outputs": [
    {
     "data": {
      "text/plain": [
       "array([[[255, 243, 191],\n",
       "        [255, 255, 255],\n",
       "        [255, 220, 196],\n",
       "        ...,\n",
       "        [255, 255, 222],\n",
       "        [255, 255, 224],\n",
       "        [255, 255, 225]],\n",
       "\n",
       "       [[255, 255, 212],\n",
       "        [255, 222, 255],\n",
       "        [248, 191, 178],\n",
       "        ...,\n",
       "        [255, 255, 255],\n",
       "        [255, 255, 225],\n",
       "        [255, 255, 195]],\n",
       "\n",
       "       [[255, 238, 200],\n",
       "        [238, 190, 173],\n",
       "        [255, 176, 140],\n",
       "        ...,\n",
       "        [255, 255, 244],\n",
       "        [255, 255, 235],\n",
       "        [255, 255, 225]],\n",
       "\n",
       "       ...,\n",
       "\n",
       "       [[255, 243, 171],\n",
       "        [255, 255, 188],\n",
       "        [255, 255, 218],\n",
       "        ...,\n",
       "        [146, 146,  84],\n",
       "        [ 90, 132,  84],\n",
       "        [ 60,  76,  41]],\n",
       "\n",
       "       [[255, 255, 156],\n",
       "        [239, 244, 160],\n",
       "        [229, 240, 190],\n",
       "        ...,\n",
       "        [205, 200, 123],\n",
       "        [184, 195, 147],\n",
       "        [ 61,  70,  50]],\n",
       "\n",
       "       [[235, 244, 122],\n",
       "        [218, 234, 119],\n",
       "        [221, 244, 178],\n",
       "        ...,\n",
       "        [255, 255, 183],\n",
       "        [179, 159, 112],\n",
       "        [ 62,  64,  42]]], dtype=uint8)"
      ]
     },
     "execution_count": 6,
     "metadata": {},
     "output_type": "execute_result"
    }
   ],
   "source": [
    "data[250]"
   ]
  },
  {
   "cell_type": "code",
   "execution_count": 7,
   "metadata": {},
   "outputs": [
    {
     "data": {
      "text/plain": [
       "1"
      ]
     },
     "execution_count": 7,
     "metadata": {},
     "output_type": "execute_result"
    }
   ],
   "source": [
    "labels[250]"
   ]
  },
  {
   "cell_type": "code",
   "execution_count": 8,
   "metadata": {},
   "outputs": [],
   "source": [
    "x_train,x_test,y_train,y_test= train_test_split(data,labels,test_size=0.2,random_state=42)"
   ]
  },
  {
   "cell_type": "code",
   "execution_count": 9,
   "metadata": {},
   "outputs": [
    {
     "data": {
      "text/plain": [
       "(31367,)"
      ]
     },
     "execution_count": 9,
     "metadata": {},
     "output_type": "execute_result"
    }
   ],
   "source": [
    "x_train.shape"
   ]
  },
  {
   "cell_type": "code",
   "execution_count": 10,
   "metadata": {},
   "outputs": [
    {
     "data": {
      "text/plain": [
       "(31367,)"
      ]
     },
     "execution_count": 10,
     "metadata": {},
     "output_type": "execute_result"
    }
   ],
   "source": [
    "y_train.shape"
   ]
  },
  {
   "cell_type": "code",
   "execution_count": 11,
   "metadata": {},
   "outputs": [
    {
     "data": {
      "text/plain": [
       "(7842,)"
      ]
     },
     "execution_count": 11,
     "metadata": {},
     "output_type": "execute_result"
    }
   ],
   "source": [
    "x_test.shape"
   ]
  },
  {
   "cell_type": "code",
   "execution_count": 12,
   "metadata": {},
   "outputs": [
    {
     "data": {
      "text/plain": [
       "(7842,)"
      ]
     },
     "execution_count": 12,
     "metadata": {},
     "output_type": "execute_result"
    }
   ],
   "source": [
    "y_test.shape"
   ]
  },
  {
   "cell_type": "code",
   "execution_count": 13,
   "metadata": {},
   "outputs": [
    {
     "data": {
      "text/plain": [
       "array([array([[[ 39,  40,  37],\n",
       "        [ 53,  50,  44],\n",
       "        [ 56,  49,  44],\n",
       "        ...,\n",
       "        [ 39,  43,  43],\n",
       "        [ 37,  42,  42],\n",
       "        [ 39,  43,  43]],\n",
       "\n",
       "       [[ 41,  45,  36],\n",
       "        [ 61,  66,  50],\n",
       "        [ 53,  59,  47],\n",
       "        ...,\n",
       "        [ 35,  39,  39],\n",
       "        [ 35,  39,  39],\n",
       "        [ 35,  38,  37]],\n",
       "\n",
       "       [[ 59,  67,  47],\n",
       "        [ 70,  83,  58],\n",
       "        [ 64,  83,  63],\n",
       "        ...,\n",
       "        [ 34,  38,  39],\n",
       "        [ 34,  38,  38],\n",
       "        [ 36,  38,  38]],\n",
       "\n",
       "       ...,\n",
       "\n",
       "       [[122, 127, 117],\n",
       "        [ 83,  92,  96],\n",
       "        [ 71,  84,  82],\n",
       "        ...,\n",
       "        [103, 114, 100],\n",
       "        [110, 123, 110],\n",
       "        [119, 133, 121]],\n",
       "\n",
       "       [[127, 127, 115],\n",
       "        [103, 104, 106],\n",
       "        [ 97, 100,  94],\n",
       "        ...,\n",
       "        [100, 110,  92],\n",
       "        [102, 112,  99],\n",
       "        [107, 119, 110]],\n",
       "\n",
       "       [[119, 113,  93],\n",
       "        [122, 116, 102],\n",
       "        [119, 113,  93],\n",
       "        ...,\n",
       "        [ 96, 106,  90],\n",
       "        [101, 108,  96],\n",
       "        [ 96, 106,  99]]], dtype=uint8),\n",
       "       array([[[16, 14, 15],\n",
       "        [16, 15, 17],\n",
       "        [16, 15, 17],\n",
       "        ...,\n",
       "        [13, 13, 15],\n",
       "        [14, 14, 15],\n",
       "        [14, 14, 15]],\n",
       "\n",
       "       [[17, 14, 14],\n",
       "        [15, 13, 15],\n",
       "        [15, 13, 15],\n",
       "        ...,\n",
       "        [14, 13, 15],\n",
       "        [15, 14, 16],\n",
       "        [14, 13, 16]],\n",
       "\n",
       "       [[23, 18, 18],\n",
       "        [19, 15, 16],\n",
       "        [16, 13, 14],\n",
       "        ...,\n",
       "        [14, 13, 14],\n",
       "        [15, 13, 15],\n",
       "        [14, 12, 15]],\n",
       "\n",
       "       ...,\n",
       "\n",
       "       [[13, 13, 15],\n",
       "        [11, 11, 13],\n",
       "        [12, 13, 15],\n",
       "        ...,\n",
       "        [12, 10, 13],\n",
       "        [13, 11, 13],\n",
       "        [13, 11, 13]],\n",
       "\n",
       "       [[13, 13, 15],\n",
       "        [13, 13, 15],\n",
       "        [14, 14, 16],\n",
       "        ...,\n",
       "        [11, 10, 12],\n",
       "        [12, 11, 13],\n",
       "        [12, 11, 14]],\n",
       "\n",
       "       [[13, 12, 13],\n",
       "        [12, 12, 13],\n",
       "        [13, 13, 14],\n",
       "        ...,\n",
       "        [12, 11, 13],\n",
       "        [12, 11, 13],\n",
       "        [12, 11, 14]]], dtype=uint8),\n",
       "       array([[[ 89,  78,  85],\n",
       "        [ 79,  79,  84],\n",
       "        [ 92, 103, 127],\n",
       "        ...,\n",
       "        [255, 255, 255],\n",
       "        [219, 186, 213],\n",
       "        [134, 132, 158]],\n",
       "\n",
       "       [[ 84,  84,  87],\n",
       "        [ 80,  83,  74],\n",
       "        [ 87,  94, 102],\n",
       "        ...,\n",
       "        [164, 164, 210],\n",
       "        [155, 140, 175],\n",
       "        [108, 118, 143]],\n",
       "\n",
       "       [[ 84,  94,  96],\n",
       "        [ 81,  87,  80],\n",
       "        [ 85,  88,  92],\n",
       "        ...,\n",
       "        [159, 174, 215],\n",
       "        [137, 139, 165],\n",
       "        [ 83, 105, 117]],\n",
       "\n",
       "       ...,\n",
       "\n",
       "       [[ 96,  93, 107],\n",
       "        [ 74,  72,  88],\n",
       "        [ 69,  67,  70],\n",
       "        ...,\n",
       "        [104, 113, 124],\n",
       "        [128, 142, 168],\n",
       "        [134, 149, 191]],\n",
       "\n",
       "       [[ 81,  82,  94],\n",
       "        [ 68,  68,  92],\n",
       "        [ 68,  68,  77],\n",
       "        ...,\n",
       "        [ 63,  63,  64],\n",
       "        [ 88, 100, 113],\n",
       "        [129, 138, 163]],\n",
       "\n",
       "       [[ 67,  71,  82],\n",
       "        [ 69,  72, 105],\n",
       "        [ 91,  93, 107],\n",
       "        ...,\n",
       "        [ 58,  45,  36],\n",
       "        [ 43,  40,  40],\n",
       "        [124, 121, 129]]], dtype=uint8),\n",
       "       ...,\n",
       "       array([[[ 76,  96, 126],\n",
       "        [ 96, 104, 133],\n",
       "        [ 84,  80,  91],\n",
       "        ...,\n",
       "        [ 18,  19,  17],\n",
       "        [ 20,  21,  20],\n",
       "        [ 20,  21,  19]],\n",
       "\n",
       "       [[ 99, 117, 172],\n",
       "        [ 92, 100, 164],\n",
       "        [ 85,  83, 113],\n",
       "        ...,\n",
       "        [ 18,  19,  16],\n",
       "        [ 20,  20,  18],\n",
       "        [ 22,  22,  19]],\n",
       "\n",
       "       [[ 67,  84, 112],\n",
       "        [ 71,  79, 114],\n",
       "        [ 69,  68,  83],\n",
       "        ...,\n",
       "        [ 19,  20,  16],\n",
       "        [ 20,  20,  17],\n",
       "        [ 24,  23,  20]],\n",
       "\n",
       "       ...,\n",
       "\n",
       "       [[ 52,  63,  59],\n",
       "        [ 54,  67,  63],\n",
       "        [ 58,  73,  76],\n",
       "        ...,\n",
       "        [ 83,  86,  98],\n",
       "        [ 83,  85,  98],\n",
       "        [ 82,  84,  96]],\n",
       "\n",
       "       [[ 54,  69,  63],\n",
       "        [ 57,  75,  69],\n",
       "        [ 59,  81,  86],\n",
       "        ...,\n",
       "        [ 65,  70,  82],\n",
       "        [ 63,  68,  79],\n",
       "        [ 60,  66,  76]],\n",
       "\n",
       "       [[ 56,  76,  82],\n",
       "        [ 62,  86,  96],\n",
       "        [ 72, 101, 116],\n",
       "        ...,\n",
       "        [ 41,  49,  66],\n",
       "        [ 44,  53,  71],\n",
       "        [ 45,  55,  71]]], dtype=uint8),\n",
       "       array([[[61, 56, 55],\n",
       "        [56, 54, 53],\n",
       "        [52, 52, 49],\n",
       "        ...,\n",
       "        [61, 56, 47],\n",
       "        [68, 66, 55],\n",
       "        [87, 78, 65]],\n",
       "\n",
       "       [[56, 54, 52],\n",
       "        [52, 51, 48],\n",
       "        [48, 48, 44],\n",
       "        ...,\n",
       "        [63, 60, 52],\n",
       "        [58, 58, 50],\n",
       "        [73, 67, 58]],\n",
       "\n",
       "       [[55, 55, 52],\n",
       "        [51, 51, 48],\n",
       "        [51, 51, 48],\n",
       "        ...,\n",
       "        [67, 65, 55],\n",
       "        [60, 61, 51],\n",
       "        [59, 57, 48]],\n",
       "\n",
       "       ...,\n",
       "\n",
       "       [[84, 72, 59],\n",
       "        [74, 65, 54],\n",
       "        [64, 58, 50],\n",
       "        ...,\n",
       "        [53, 53, 50],\n",
       "        [54, 54, 49],\n",
       "        [53, 53, 45]],\n",
       "\n",
       "       [[83, 72, 55],\n",
       "        [78, 70, 56],\n",
       "        [68, 63, 54],\n",
       "        ...,\n",
       "        [51, 51, 48],\n",
       "        [56, 56, 51],\n",
       "        [56, 56, 49]],\n",
       "\n",
       "       [[83, 72, 56],\n",
       "        [84, 76, 63],\n",
       "        [73, 68, 60],\n",
       "        ...,\n",
       "        [49, 49, 46],\n",
       "        [50, 51, 47],\n",
       "        [54, 53, 47]]], dtype=uint8),\n",
       "       array([[[ 98,  76,  59],\n",
       "        [101,  77,  61],\n",
       "        [108,  81,  64],\n",
       "        ...,\n",
       "        [177, 182, 195],\n",
       "        [179, 188, 197],\n",
       "        [178, 186, 192]],\n",
       "\n",
       "       [[ 97,  75,  57],\n",
       "        [102,  79,  60],\n",
       "        [108,  84,  65],\n",
       "        ...,\n",
       "        [178, 180, 192],\n",
       "        [180, 186, 195],\n",
       "        [178, 183, 189]],\n",
       "\n",
       "       [[104,  82,  66],\n",
       "        [108,  86,  69],\n",
       "        [102,  80,  63],\n",
       "        ...,\n",
       "        [174, 174, 181],\n",
       "        [174, 177, 183],\n",
       "        [179, 180, 186]],\n",
       "\n",
       "       ...,\n",
       "\n",
       "       [[ 63,  53,  49],\n",
       "        [ 60,  49,  44],\n",
       "        [ 61,  49,  44],\n",
       "        ...,\n",
       "        [ 62,  58,  54],\n",
       "        [ 40,  45,  42],\n",
       "        [ 35,  32,  30]],\n",
       "\n",
       "       [[ 63,  53,  48],\n",
       "        [ 60,  49,  44],\n",
       "        [ 58,  46,  41],\n",
       "        ...,\n",
       "        [ 64,  62,  55],\n",
       "        [ 49,  55,  52],\n",
       "        [ 39,  37,  37]],\n",
       "\n",
       "       [[ 61,  51,  47],\n",
       "        [ 56,  45,  42],\n",
       "        [ 58,  46,  41],\n",
       "        ...,\n",
       "        [ 53,  53,  49],\n",
       "        [ 48,  55,  54],\n",
       "        [ 42,  42,  43]]], dtype=uint8)], dtype=object)"
      ]
     },
     "execution_count": 13,
     "metadata": {},
     "output_type": "execute_result"
    }
   ],
   "source": [
    "x_train"
   ]
  },
  {
   "cell_type": "code",
   "execution_count": 14,
   "metadata": {},
   "outputs": [],
   "source": [
    "y_train=to_categorical(y_train,43)"
   ]
  },
  {
   "cell_type": "code",
   "execution_count": 15,
   "metadata": {},
   "outputs": [],
   "source": [
    "y_test=to_categorical(y_test,43)"
   ]
  },
  {
   "cell_type": "code",
   "execution_count": 17,
   "metadata": {},
   "outputs": [
    {
     "ename": "ValueError",
     "evalue": "Input 0 of layer conv2d is incompatible with the layer: expected ndim=4, found ndim=1. Full shape received: [None]",
     "output_type": "error",
     "traceback": [
      "\u001b[1;31m---------------------------------------------------------------------------\u001b[0m",
      "\u001b[1;31mValueError\u001b[0m                                Traceback (most recent call last)",
      "\u001b[1;32m<ipython-input-17-f1f6011eec31>\u001b[0m in \u001b[0;36m<module>\u001b[1;34m\u001b[0m\n\u001b[0;32m      1\u001b[0m \u001b[0mmodel\u001b[0m \u001b[1;33m=\u001b[0m \u001b[0mSequential\u001b[0m\u001b[1;33m(\u001b[0m\u001b[1;33m)\u001b[0m\u001b[1;33m\u001b[0m\u001b[1;33m\u001b[0m\u001b[0m\n\u001b[1;32m----> 2\u001b[1;33m \u001b[0mmodel\u001b[0m\u001b[1;33m.\u001b[0m\u001b[0madd\u001b[0m\u001b[1;33m(\u001b[0m\u001b[0mConv2D\u001b[0m\u001b[1;33m(\u001b[0m\u001b[0mfilters\u001b[0m\u001b[1;33m=\u001b[0m\u001b[1;36m32\u001b[0m\u001b[1;33m,\u001b[0m \u001b[0mkernel_size\u001b[0m\u001b[1;33m=\u001b[0m\u001b[1;33m(\u001b[0m\u001b[1;36m5\u001b[0m\u001b[1;33m,\u001b[0m\u001b[1;36m5\u001b[0m\u001b[1;33m)\u001b[0m\u001b[1;33m,\u001b[0m \u001b[0mactivation\u001b[0m\u001b[1;33m=\u001b[0m\u001b[1;34m'relu'\u001b[0m\u001b[1;33m,\u001b[0m \u001b[0minput_shape\u001b[0m\u001b[1;33m=\u001b[0m\u001b[0mx_train\u001b[0m\u001b[1;33m.\u001b[0m\u001b[0mshape\u001b[0m\u001b[1;33m[\u001b[0m\u001b[1;36m1\u001b[0m\u001b[1;33m:\u001b[0m\u001b[1;33m]\u001b[0m\u001b[1;33m)\u001b[0m\u001b[1;33m)\u001b[0m\u001b[1;33m\u001b[0m\u001b[1;33m\u001b[0m\u001b[0m\n\u001b[0m\u001b[0;32m      3\u001b[0m \u001b[0mmodel\u001b[0m\u001b[1;33m.\u001b[0m\u001b[0madd\u001b[0m\u001b[1;33m(\u001b[0m\u001b[0mConv2D\u001b[0m\u001b[1;33m(\u001b[0m\u001b[0mfilters\u001b[0m\u001b[1;33m=\u001b[0m\u001b[1;36m32\u001b[0m\u001b[1;33m,\u001b[0m \u001b[0mkernel_size\u001b[0m\u001b[1;33m=\u001b[0m\u001b[1;33m(\u001b[0m\u001b[1;36m5\u001b[0m\u001b[1;33m,\u001b[0m\u001b[1;36m5\u001b[0m\u001b[1;33m)\u001b[0m\u001b[1;33m,\u001b[0m \u001b[0mactivation\u001b[0m\u001b[1;33m=\u001b[0m\u001b[1;34m'relu'\u001b[0m\u001b[1;33m)\u001b[0m\u001b[1;33m)\u001b[0m\u001b[1;33m\u001b[0m\u001b[1;33m\u001b[0m\u001b[0m\n\u001b[0;32m      4\u001b[0m \u001b[0mmodel\u001b[0m\u001b[1;33m.\u001b[0m\u001b[0madd\u001b[0m\u001b[1;33m(\u001b[0m\u001b[0mMaxPool2D\u001b[0m\u001b[1;33m(\u001b[0m\u001b[0mpool_size\u001b[0m\u001b[1;33m=\u001b[0m\u001b[1;33m(\u001b[0m\u001b[1;36m2\u001b[0m\u001b[1;33m,\u001b[0m \u001b[1;36m2\u001b[0m\u001b[1;33m)\u001b[0m\u001b[1;33m)\u001b[0m\u001b[1;33m)\u001b[0m\u001b[1;33m\u001b[0m\u001b[1;33m\u001b[0m\u001b[0m\n\u001b[0;32m      5\u001b[0m \u001b[0mmodel\u001b[0m\u001b[1;33m.\u001b[0m\u001b[0madd\u001b[0m\u001b[1;33m(\u001b[0m\u001b[0mDropout\u001b[0m\u001b[1;33m(\u001b[0m\u001b[0mrate\u001b[0m\u001b[1;33m=\u001b[0m\u001b[1;36m0.25\u001b[0m\u001b[1;33m)\u001b[0m\u001b[1;33m)\u001b[0m\u001b[1;33m\u001b[0m\u001b[1;33m\u001b[0m\u001b[0m\n",
      "\u001b[1;32mc:\\users\\lenovo\\anaconda3\\envs\\riyuzaki\\lib\\site-packages\\tensorflow\\python\\training\\tracking\\base.py\u001b[0m in \u001b[0;36m_method_wrapper\u001b[1;34m(self, *args, **kwargs)\u001b[0m\n\u001b[0;32m    454\u001b[0m     \u001b[0mself\u001b[0m\u001b[1;33m.\u001b[0m\u001b[0m_self_setattr_tracking\u001b[0m \u001b[1;33m=\u001b[0m \u001b[1;32mFalse\u001b[0m  \u001b[1;31m# pylint: disable=protected-access\u001b[0m\u001b[1;33m\u001b[0m\u001b[1;33m\u001b[0m\u001b[0m\n\u001b[0;32m    455\u001b[0m     \u001b[1;32mtry\u001b[0m\u001b[1;33m:\u001b[0m\u001b[1;33m\u001b[0m\u001b[1;33m\u001b[0m\u001b[0m\n\u001b[1;32m--> 456\u001b[1;33m       \u001b[0mresult\u001b[0m \u001b[1;33m=\u001b[0m \u001b[0mmethod\u001b[0m\u001b[1;33m(\u001b[0m\u001b[0mself\u001b[0m\u001b[1;33m,\u001b[0m \u001b[1;33m*\u001b[0m\u001b[0margs\u001b[0m\u001b[1;33m,\u001b[0m \u001b[1;33m**\u001b[0m\u001b[0mkwargs\u001b[0m\u001b[1;33m)\u001b[0m\u001b[1;33m\u001b[0m\u001b[1;33m\u001b[0m\u001b[0m\n\u001b[0m\u001b[0;32m    457\u001b[0m     \u001b[1;32mfinally\u001b[0m\u001b[1;33m:\u001b[0m\u001b[1;33m\u001b[0m\u001b[1;33m\u001b[0m\u001b[0m\n\u001b[0;32m    458\u001b[0m       \u001b[0mself\u001b[0m\u001b[1;33m.\u001b[0m\u001b[0m_self_setattr_tracking\u001b[0m \u001b[1;33m=\u001b[0m \u001b[0mprevious_value\u001b[0m  \u001b[1;31m# pylint: disable=protected-access\u001b[0m\u001b[1;33m\u001b[0m\u001b[1;33m\u001b[0m\u001b[0m\n",
      "\u001b[1;32mc:\\users\\lenovo\\anaconda3\\envs\\riyuzaki\\lib\\site-packages\\tensorflow\\python\\keras\\engine\\sequential.py\u001b[0m in \u001b[0;36madd\u001b[1;34m(self, layer)\u001b[0m\n\u001b[0;32m    196\u001b[0m           \u001b[1;31m# and create the node connecting the current layer\u001b[0m\u001b[1;33m\u001b[0m\u001b[1;33m\u001b[0m\u001b[1;33m\u001b[0m\u001b[0m\n\u001b[0;32m    197\u001b[0m           \u001b[1;31m# to the input layer we just created.\u001b[0m\u001b[1;33m\u001b[0m\u001b[1;33m\u001b[0m\u001b[1;33m\u001b[0m\u001b[0m\n\u001b[1;32m--> 198\u001b[1;33m           \u001b[0mlayer\u001b[0m\u001b[1;33m(\u001b[0m\u001b[0mx\u001b[0m\u001b[1;33m)\u001b[0m\u001b[1;33m\u001b[0m\u001b[1;33m\u001b[0m\u001b[0m\n\u001b[0m\u001b[0;32m    199\u001b[0m           \u001b[0mset_inputs\u001b[0m \u001b[1;33m=\u001b[0m \u001b[1;32mTrue\u001b[0m\u001b[1;33m\u001b[0m\u001b[1;33m\u001b[0m\u001b[0m\n\u001b[0;32m    200\u001b[0m \u001b[1;33m\u001b[0m\u001b[0m\n",
      "\u001b[1;32mc:\\users\\lenovo\\anaconda3\\envs\\riyuzaki\\lib\\site-packages\\tensorflow\\python\\keras\\engine\\base_layer.py\u001b[0m in \u001b[0;36m__call__\u001b[1;34m(self, *args, **kwargs)\u001b[0m\n\u001b[0;32m    884\u001b[0m         \u001b[1;31m# are casted, not before.\u001b[0m\u001b[1;33m\u001b[0m\u001b[1;33m\u001b[0m\u001b[1;33m\u001b[0m\u001b[0m\n\u001b[0;32m    885\u001b[0m         input_spec.assert_input_compatibility(self.input_spec, inputs,\n\u001b[1;32m--> 886\u001b[1;33m                                               self.name)\n\u001b[0m\u001b[0;32m    887\u001b[0m         if (any(isinstance(x, ragged_tensor.RaggedTensor) for x in input_list)\n\u001b[0;32m    888\u001b[0m             and self._supports_ragged_inputs is False):  # pylint: disable=g-bool-id-comparison\n",
      "\u001b[1;32mc:\\users\\lenovo\\anaconda3\\envs\\riyuzaki\\lib\\site-packages\\tensorflow\\python\\keras\\engine\\input_spec.py\u001b[0m in \u001b[0;36massert_input_compatibility\u001b[1;34m(input_spec, inputs, layer_name)\u001b[0m\n\u001b[0;32m    178\u001b[0m                          \u001b[1;34m'expected ndim='\u001b[0m \u001b[1;33m+\u001b[0m \u001b[0mstr\u001b[0m\u001b[1;33m(\u001b[0m\u001b[0mspec\u001b[0m\u001b[1;33m.\u001b[0m\u001b[0mndim\u001b[0m\u001b[1;33m)\u001b[0m \u001b[1;33m+\u001b[0m \u001b[1;34m', found ndim='\u001b[0m \u001b[1;33m+\u001b[0m\u001b[1;33m\u001b[0m\u001b[1;33m\u001b[0m\u001b[0m\n\u001b[0;32m    179\u001b[0m                          \u001b[0mstr\u001b[0m\u001b[1;33m(\u001b[0m\u001b[0mndim\u001b[0m\u001b[1;33m)\u001b[0m \u001b[1;33m+\u001b[0m \u001b[1;34m'. Full shape received: '\u001b[0m \u001b[1;33m+\u001b[0m\u001b[1;33m\u001b[0m\u001b[1;33m\u001b[0m\u001b[0m\n\u001b[1;32m--> 180\u001b[1;33m                          str(x.shape.as_list()))\n\u001b[0m\u001b[0;32m    181\u001b[0m     \u001b[1;32mif\u001b[0m \u001b[0mspec\u001b[0m\u001b[1;33m.\u001b[0m\u001b[0mmax_ndim\u001b[0m \u001b[1;32mis\u001b[0m \u001b[1;32mnot\u001b[0m \u001b[1;32mNone\u001b[0m\u001b[1;33m:\u001b[0m\u001b[1;33m\u001b[0m\u001b[1;33m\u001b[0m\u001b[0m\n\u001b[0;32m    182\u001b[0m       \u001b[0mndim\u001b[0m \u001b[1;33m=\u001b[0m \u001b[0mx\u001b[0m\u001b[1;33m.\u001b[0m\u001b[0mshape\u001b[0m\u001b[1;33m.\u001b[0m\u001b[0mndims\u001b[0m\u001b[1;33m\u001b[0m\u001b[1;33m\u001b[0m\u001b[0m\n",
      "\u001b[1;31mValueError\u001b[0m: Input 0 of layer conv2d is incompatible with the layer: expected ndim=4, found ndim=1. Full shape received: [None]"
     ]
    }
   ],
   "source": [
    "model = Sequential()\n",
    "model.add(Conv2D(filters=32, kernel_size=(5,5), activation='relu', input_shape=x_train.shape[1:]))\n",
    "model.add(Conv2D(filters=32, kernel_size=(5,5), activation='relu'))\n",
    "model.add(MaxPool2D(pool_size=(2, 2)))\n",
    "model.add(Dropout(rate=0.25))\n",
    "model.add(Conv2D(filters=64, kernel_size=(3, 3), activation='relu'))\n",
    "model.add(Conv2D(filters=64, kernel_size=(3, 3), activation='relu'))\n",
    "model.add(MaxPool2D(pool_size=(2, 2)))\n",
    "model.add(Dropout(rate=0.25))\n",
    "model.add(Flatten())\n",
    "model.add(Dense(256, activation='relu'))\n",
    "model.add(Dropout(rate=0.5))\n",
    "model.add(Dense(43, activation='softmax'))"
   ]
  },
  {
   "cell_type": "code",
   "execution_count": null,
   "metadata": {},
   "outputs": [],
   "source": []
  }
 ],
 "metadata": {
  "kernelspec": {
   "display_name": "Python 3",
   "language": "python",
   "name": "python3"
  },
  "language_info": {
   "codemirror_mode": {
    "name": "ipython",
    "version": 3
   },
   "file_extension": ".py",
   "mimetype": "text/x-python",
   "name": "python",
   "nbconvert_exporter": "python",
   "pygments_lexer": "ipython3",
   "version": "3.7.7"
  }
 },
 "nbformat": 4,
 "nbformat_minor": 4
}
